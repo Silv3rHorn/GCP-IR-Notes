{
 "cells": [
  {
   "cell_type": "markdown",
   "metadata": {},
   "source": [
    "# Create Disk Snapshot & Forensic Disk (ipynb)"
   ]
  },
  {
   "cell_type": "markdown",
   "metadata": {},
   "source": [
    "## Install Dependencies"
   ]
  },
  {
   "cell_type": "markdown",
   "metadata": {},
   "source": [
    "Install the dependencies `ipywidgets` and `pandas`. Skip the next cell if they had already been installed."
   ]
  },
  {
   "cell_type": "code",
   "execution_count": null,
   "metadata": {},
   "outputs": [],
   "source": [
    "!pip3 install ipywidgets pandas"
   ]
  },
  {
   "cell_type": "markdown",
   "metadata": {},
   "source": [
    "## Imports and Configuration"
   ]
  },
  {
   "cell_type": "code",
   "execution_count": null,
   "metadata": {},
   "outputs": [],
   "source": [
    "import ipywidgets as widgets\n",
    "import json\n",
    "import os\n",
    "import pandas as pd\n",
    "\n",
    "from IPython.display import HTML, display\n",
    "\n",
    "# extend width of widgets\n",
    "display(HTML('''<style>\n",
    "    .widget-label { min-width: 24ex !important; font-weight:bold; }\n",
    "</style>'''))\n",
    "\n",
    "# extend width and max rows of pandas output\n",
    "pd.set_option('display.max_colwidth', None)\n",
    "pd.set_option('display.max_rows', None)"
   ]
  },
  {
   "cell_type": "code",
   "execution_count": null,
   "metadata": {},
   "outputs": [],
   "source": [
    "# [OPTIONAL] authenticate using your service account\n",
    "!gcloud auth activate-service-account --key-file <json_key_file>"
   ]
  },
  {
   "cell_type": "markdown",
   "metadata": {},
   "source": [
    "## Steps"
   ]
  },
  {
   "cell_type": "markdown",
   "metadata": {},
   "source": [
    "**Specify the following information**\n",
    "| Fields      | Description |\n",
    "| ----------- | ----------- |\n",
    "| `Destination Project`   | Project id of analyst project    |\n",
    "| `Destination Zone`   | Zone of compute instance the created forensic disk would be attached to, e.g. `asia-southeast1-b`    |\n",
    "| `Target Instance`   | Name of compute instance the created forensic disk would be attached to, e.g. `sift-instance`    |\n",
    "| `Source Project`   | Project id of target project (that contains potentially compromised compute instance    |"
   ]
  },
  {
   "cell_type": "code",
   "execution_count": null,
   "metadata": {},
   "outputs": [],
   "source": [
    "# create text boxes for user input\n",
    "dst_project = widgets.Text(description = \"Destination Project: \", disabled=False, layout=widgets.Layout(width='40%'))\n",
    "dst_zone = widgets.Text(description = \"Destination Zone: \", disabled=False, layout=widgets.Layout(width='40%'))\n",
    "target_instance = widgets.Text(description = \"Target Instance: \", disabled=False, layout=widgets.Layout(width='40%'))\n",
    "src_project = widgets.Text(description = \"Source Project: \", disabled=False, layout=widgets.Layout(width='40%'))\n",
    "\n",
    "display(dst_project, dst_zone, target_instance, src_project)"
   ]
  },
  {
   "cell_type": "code",
   "execution_count": null,
   "id": "281ff324",
   "metadata": {
    "scrolled": true
   },
   "outputs": [],
   "source": [
    "# store user input in environment variables for use in subsequent comamnds\n",
    "os.environ['DST_PROJECT'] = dst_project.value\n",
    "os.environ['DST_ZONE'] = dst_zone.value\n",
    "os.environ['TARGET_INSTANCE'] = target_instance.value\n",
    "os.environ['SRC_PROJECT'] = src_project.value"
   ]
  },
  {
   "cell_type": "code",
   "execution_count": null,
   "id": "a95c2dfc",
   "metadata": {
    "scrolled": false
   },
   "outputs": [],
   "source": [
    "# list disks in target (src) project\n",
    "!gcloud compute disks list --project $SRC_PROJECT"
   ]
  },
  {
   "cell_type": "markdown",
   "metadata": {},
   "source": [
    "**Specify the following information from the above output**\n",
    "| Fields      | Description |\n",
    "| ----------- | ----------- |\n",
    "| `Source Disk`   | Name of the disk in target (src) project to create a snapshot of    |\n",
    "| `Source Zone`   | Zone of the disk in target (src) project to create a snapshot of, e.g. `asia-southeast1-b`    |\n",
    "| `Snapshot Name`   | Name of created snapshot of your choice    |\n",
    "| `Destination Disk`   | Name of created forensics disk of your choice    |"
   ]
  },
  {
   "cell_type": "code",
   "execution_count": null,
   "metadata": {},
   "outputs": [],
   "source": [
    "# create text boxes for user input\n",
    "src_disk = widgets.Text(description = \"Source Disk: \", disabled=False, layout=widgets.Layout(width='40%'))\n",
    "src_zone = widgets.Text(description = \"Source Zone: \", disabled=False, layout=widgets.Layout(width='40%'))\n",
    "ss_name = widgets.Text(description = \"Snapshot Name: \", disabled=False, layout=widgets.Layout(width='40%'))\n",
    "dst_disk = widgets.Text(description = \"Destination Disk: \", disabled=False, layout=widgets.Layout(width='40%'))\n",
    "display(src_disk, src_zone, ss_name, dst_disk)"
   ]
  },
  {
   "cell_type": "code",
   "execution_count": null,
   "id": "93502677",
   "metadata": {},
   "outputs": [],
   "source": [
    "# store user input in environment variables for use in subsequent comamnds\n",
    "os.environ['SRC_DISK'] = src_disk.value\n",
    "os.environ['SRC_ZONE'] = src_zone.value\n",
    "os.environ['SS_NAME'] = ss_name.value\n",
    "os.environ['DST_DISK'] = dst_disk.value"
   ]
  },
  {
   "cell_type": "code",
   "execution_count": null,
   "id": "9cce7685",
   "metadata": {},
   "outputs": [],
   "source": [
    "# create snapshot SS_NAME from SRC_DISK\n",
    "!gcloud compute disks snapshot $SRC_DISK --project $SRC_PROJECT --zone $SRC_ZONE --snapshot-names $SS_NAME"
   ]
  },
  {
   "cell_type": "code",
   "execution_count": null,
   "id": "fa0a3fa0",
   "metadata": {},
   "outputs": [],
   "source": [
    "# create DST_DISK from snapshot SS_NAME\n",
    "!gcloud compute disks create $DST_DISK --project $DST_PROJECT --zone $DST_ZONE --source-snapshot projects/$SRC_PROJECT/global/snapshots/$SS_NAME"
   ]
  },
  {
   "cell_type": "code",
   "execution_count": null,
   "id": "b7ad1d79",
   "metadata": {},
   "outputs": [],
   "source": [
    "# attach DST_DISK to TARGET_INSTANCE\n",
    "!gcloud compute instances attach-disk $TARGET_INSTANCE --project $DST_PROJECT --zone $DST_ZONE --disk $DST_DISK --mode ro "
   ]
  },
  {
   "cell_type": "code",
   "execution_count": null,
   "id": "f328e1b3",
   "metadata": {},
   "outputs": [],
   "source": [
    "# delete snapshot SS_NAME from SRC_PROJECT\n",
    "!gcloud compute snapshots delete $SS_NAME --project $SRC_PROJECT --quiet"
   ]
  },
  {
   "cell_type": "markdown",
   "metadata": {},
   "source": [
    "To mount in the destination instance, the following commands can be used:\n",
    "```\n",
    "# create mount point\n",
    "sudo mkdir <mnt_pt>\n",
    "\n",
    "# identify device id of attached disk\n",
    "lsblk\n",
    "\n",
    "# mount the attached disk:\n",
    "sudo mount -o ro,noload /dev/<device_id> <mnt_pt>\n",
    "```\n",
    "\n",
    "To unmount the attached disk:\n",
    "```\n",
    "sudo umount <mnt_pt>\n",
    "```"
   ]
  }
 ],
 "metadata": {
  "interpreter": {
   "hash": "e774977668b7c0ae8309835a5187aa7fbf7669e7d0bb59755bc63e573643edcd"
  },
  "kernelspec": {
   "display_name": "Python 3.7.9 64-bit",
   "language": "python",
   "name": "python3"
  },
  "language_info": {
   "codemirror_mode": {
    "name": "ipython",
    "version": 3
   },
   "file_extension": ".py",
   "mimetype": "text/x-python",
   "name": "python",
   "nbconvert_exporter": "python",
   "pygments_lexer": "ipython3",
   "version": "3.7.9"
  },
  "widgets": {
   "application/vnd.jupyter.widget-state+json": {
    "state": {},
    "version_major": 2,
    "version_minor": 0
   }
  }
 },
 "nbformat": 4,
 "nbformat_minor": 4
}
