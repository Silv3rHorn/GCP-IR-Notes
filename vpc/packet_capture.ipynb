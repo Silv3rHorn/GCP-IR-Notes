{
 "cells": [
  {
   "cell_type": "markdown",
   "metadata": {},
   "source": [
    "# Full Packet Capture (ipynb)\n",
    "\n",
    "- Steps below includes the implementation of necessary infrastructure (e.g. network, subnet, load balancer, compute instance(s), packet mirroring policy) at the analyst project to receive the captured packets.\n",
    "- Also includes setting up the target resource(s) (e.g. tagging, firewall rules) where packets would be captured from\n",
    "- Network traffic would be mirrored from target resource(s) to implemented infrastructure\n",
    "- Actual packet capture to `pcap` file still requires SSH into receiving compute instance and performing `tcpdump`\n",
    "\n",
    "**References**\n",
    "- [Packet Mirroring Documentation](https://cloud.google.com/vpc/docs/packet-mirroring)\n",
    "- [Setting up advanced network threat detection with Packet Mirroring](https://cloud.google.com/blog/products/networking/packet-mirroring-enables-better-network-monitoring-and-security)"
   ]
  },
  {
   "cell_type": "markdown",
   "metadata": {},
   "source": [
    "## Install Dependencies"
   ]
  },
  {
   "cell_type": "markdown",
   "metadata": {},
   "source": [
    "Install the dependencies `ipywidgets` and `pandas`. Skip the next cell if they had already been installed."
   ]
  },
  {
   "cell_type": "code",
   "execution_count": null,
   "metadata": {},
   "outputs": [],
   "source": [
    "!pip3 install ipywidgets pandas"
   ]
  },
  {
   "cell_type": "markdown",
   "metadata": {},
   "source": [
    "## Imports and Configuration"
   ]
  },
  {
   "cell_type": "code",
   "execution_count": null,
   "id": "f7fb1bd9",
   "metadata": {},
   "outputs": [],
   "source": [
    "import ipywidgets as widgets\n",
    "import json\n",
    "import os\n",
    "import pandas as pd\n",
    "\n",
    "from IPython.display import HTML, display\n",
    "\n",
    "# extend width of widgets\n",
    "display(HTML('''<style>\n",
    "    .widget-label { min-width: 28ex !important; font-weight:bold; }\n",
    "</style>'''))\n",
    "\n",
    "# extend width and max rows of pandas output\n",
    "pd.set_option('display.max_colwidth', None)\n",
    "pd.set_option('display.max_rows', None)"
   ]
  },
  {
   "cell_type": "markdown",
   "id": "1be2eedf",
   "metadata": {},
   "source": [
    "## Define Environment Variables"
   ]
  },
  {
   "cell_type": "markdown",
   "metadata": {},
   "source": [
    "**Specify the following information**  \n",
    "- `Source Project` - Project id of target project (that contains potentially compromised compute instance)"
   ]
  },
  {
   "cell_type": "code",
   "execution_count": null,
   "id": "ebed1659",
   "metadata": {},
   "outputs": [],
   "source": [
    "# create text boxes for user input\n",
    "src_project = widgets.Text(description = \"Source Project: \", disabled=False)\n",
    "display(src_project)"
   ]
  },
  {
   "cell_type": "code",
   "execution_count": null,
   "id": "9873d43f",
   "metadata": {},
   "outputs": [],
   "source": [
    "# store user input in environment variables for use in subsequent comamnds\n",
    "os.environ['SRC_PROJECT'] = src_project.value"
   ]
  },
  {
   "cell_type": "code",
   "execution_count": null,
   "id": "b8704da3",
   "metadata": {},
   "outputs": [],
   "source": [
    "# get zone, network, ip of VMs of interest in target (src) project\n",
    "!gcloud compute instances list \\\n",
    "    --project $SRC_PROJECT \\\n",
    "    --format=\"table( \\\n",
    "    name, \\\n",
    "    zone.basename(), \\\n",
    "    networkInterfaces[].network.basename(), \\\n",
    "    networkInterfaces[].subnetwork.basename(), \\\n",
    "    networkInterfaces[].networkIP, \\\n",
    "    status)\""
   ]
  },
  {
   "cell_type": "markdown",
   "metadata": {},
   "source": [
    "**Specify the following information** \n",
    "| Fields      | Description |\n",
    "| ----------- | ----------- |\n",
    "| **Source (Target)**    |   |\n",
    "| `Source Region`   | Region of the compute instance to capture packets from    |\n",
    "| `Source Zone`   | Zone of the compute instance to capture packets from    |\n",
    "| `Source Project`   | Project id of project that contains the compute instance to capture packets from    |\n",
    "| `Source Network`   | Name of network that contains the compute instance to capture packets from    |\n",
    "| `Source IP Range`   | IP address range of network that contains the compute instance to capture packets from    |\n",
    "| `Source VM`   | Name of compute instance to capture packets from    |\n",
    "| **Destination (Analyst)**    |   |\n",
    "| `Destination Project`   | Project id of project where the compute instance to receive the packets would be created     |\n",
    "| `Destination Network`   | Name of network where the compute instance to receive the packets would be created     |\n",
    "| `Destination Subnet`   | Name of subnet where the compute instance to receive the packets would be created     |\n",
    "| `Destination Subnet Range`   | Subnet range of above subnet     |\n",
    "| `Destination Instance Group`   | Name of instance group where the compute instance to receive the packets would be created      |\n",
    "| `Destination VM`   | Name of the created compute instance that would receive the packets    |\n",
    "| `Destination SSH IP`   | IP address that would be used to SSH into the created compute instance that would receive the packets    |\n",
    "| **Network**    |   |\n",
    "| `Mirror Network Tag`   | Name of tag to place on the compute instance to capture packets from    |\n",
    "| `VPC Peering Name`   | Name of VPC network peering connection between the target network and the analyst network   |\n",
    "| `LB Health Check Name`   | Name of health check (for load balancer to receive mirrored traffic)    |\n",
    "| `LB Frontend Name`   | Name of front end (for load balancer to receive mirrored traffic)    |\n",
    "| `Packet Mirroring Policy Name`   | Name of packet mirroring policy    |"
   ]
  },
  {
   "cell_type": "code",
   "execution_count": null,
   "id": "e94c6ff9",
   "metadata": {},
   "outputs": [],
   "source": [
    "# create text boxes for user input\n",
    "print(\"====== SOURCE (TARGET)======\")\n",
    "src_region = widgets.Text(value='asia-southeast1', description = \"Source Region: \", disabled=False)\n",
    "src_zone = widgets.Text(value='asia-southeast1-b', description = \"Source Zone: \", disabled=False)\n",
    "src_network = widgets.Text(value='default', description = \"Source Network: \", disabled=False)\n",
    "src_ip_range = widgets.Text(value='10.148.0.0/20', description = \"Source IP Range: \", disabled=False)\n",
    "src_vm = widgets.Text(description = \"Source VM: \", disabled=False)\n",
    "display(src_region, src_zone, src_network, src_ip_range, src_vm)\n",
    "\n",
    "print(\"====== DESTINATION (ANALYST)======\")\n",
    "dst_project = widgets.Text(description = \"Destination Project: \", disabled=False)\n",
    "dst_network = widgets.Text(value='pc-network', description = \"Destination Network: \", disabled=False)\n",
    "dst_subnet = widgets.Text(value='pc-subnet', description = \"Destination Subnet: \", disabled=False)\n",
    "dst_subnet_range = widgets.Text(value='10.1.2.0/24', description = \"Destination Subnet Range: \", disabled=False)\n",
    "dst_instance_grp = widgets.Text(value='pc-grp', description = \"Destination Instance Grp: \", disabled=False)\n",
    "dst_vm = widgets.Text(value='pc-vm-1', description = \"Destination VM: \", disabled=False)\n",
    "dst_ssh_ip = widgets.Text(value='165.225.112.0/23', description = \"Destination SSH IP: \", disabled=False)\n",
    "display(dst_project, dst_network, dst_subnet, dst_subnet_range, dst_instance_grp, dst_vm, dst_ssh_ip)\n",
    "\n",
    "print(\"====== NETWORK ======\")\n",
    "mirror_network_tag = widgets.Text(value='pc-tag', description = \"Mirror Network Tag: \", disabled=False)\n",
    "peering_name = widgets.Text(value='pc-peering', description = \"VPC Peering Name: \", disabled=False)\n",
    "lb_hc_name = widgets.Text(value='pc-hc-ilb', description = \"LB Health Check Name: \", disabled=False)\n",
    "lb_be_name = widgets.Text(value='pc-be-ilb', description = \"LB Backend Name: \", disabled=False)\n",
    "lb_fe_name = widgets.Text(value='pc-fe-ilb', description = \"LB Frontend Name: \", disabled=False)\n",
    "pm_policy_name = widgets.Text(value='pc-pmp', description = \"Packet Mirroring Policy Name: \", disabled=False)\n",
    "display(mirror_network_tag, peering_name, lb_hc_name, lb_be_name, lb_fe_name, pm_policy_name)"
   ]
  },
  {
   "cell_type": "code",
   "execution_count": null,
   "id": "00880f36",
   "metadata": {},
   "outputs": [],
   "source": [
    "# store user input in environment variables for use in subsequent comamnds\n",
    "os.environ['SRC_REGION'] = src_region.value\n",
    "os.environ['SRC_ZONE'] = src_zone.value\n",
    "os.environ['SRC_NETWORK'] = src_network.value\n",
    "os.environ['SRC_IP_RANGE'] = src_ip_range.value\n",
    "os.environ['SRC_VM'] = src_vm.value\n",
    "\n",
    "os.environ['DST_PROJECT'] = dst_project.value\n",
    "os.environ['DST_NETWORK'] = dst_network.value\n",
    "os.environ['DST_SUBNET'] = dst_subnet.value\n",
    "os.environ['DST_SUBNET_RANGE'] = dst_subnet_range.value\n",
    "os.environ['DST_INSTANCE_GRP'] = dst_instance_grp.value\n",
    "os.environ['DST_SSH_IP'] = dst_ssh_ip.value\n",
    "os.environ['DST_VM'] = dst_vm.value\n",
    "\n",
    "os.environ['NETWORK_TAG'] = mirror_network_tag.value\n",
    "os.environ['PEERING_NAME'] = peering_name.value\n",
    "\n",
    "os.environ['FW_LB_RULE_NAME'] = dst_network.value + '-' + 'allow-lb-access'\n",
    "os.environ['FW_HC_RULE_NAME'] = dst_network.value + '-' + 'allow-health-check'\n",
    "os.environ['FW_SSH_RULE_NAME'] = dst_network.value + '-' + 'allow-ssh'\n",
    "os.environ['FW_EGRESS_RULE_NAME'] = src_network.value + '-' + 'allow-all-egress'\n",
    "\n",
    "os.environ['LB_HC_NAME'] = lb_hc_name.value\n",
    "os.environ['LB_BE_NAME'] = lb_be_name.value\n",
    "os.environ['LB_FE_NAME'] = lb_fe_name.value\n",
    "\n",
    "os.environ['PM_POLICY_NAME'] = pm_policy_name.value"
   ]
  },
  {
   "cell_type": "markdown",
   "id": "c397a671",
   "metadata": {},
   "source": [
    "## Create VPC Peering"
   ]
  },
  {
   "cell_type": "code",
   "execution_count": null,
   "id": "dc276132",
   "metadata": {},
   "outputs": [],
   "source": [
    "# create VPC network at analyst (dst) project\n",
    "!gcloud compute networks create $DST_NETWORK \\\n",
    "    --project $DST_PROJECT \\\n",
    "    --subnet-mode=custom\n",
    "\n",
    "print()\n",
    "\n",
    "# create subnet in created VPC network at analyst (dst) project\n",
    "!gcloud compute networks subnets create $DST_SUBNET \\\n",
    "    --project $DST_PROJECT \\\n",
    "    --network=$DST_NETWORK \\\n",
    "    --range=$DST_SUBNET_RANGE \\\n",
    "    --region=$SRC_REGION"
   ]
  },
  {
   "cell_type": "code",
   "execution_count": null,
   "id": "99d3ad4a",
   "metadata": {},
   "outputs": [],
   "source": [
    "# create VPC network peering connection from analyst (dst) project/network to target (src) project/network\n",
    "!gcloud compute networks peerings create $PEERING_NAME \\\n",
    "    --project $DST_PROJECT \\\n",
    "    --network=$DST_NETWORK \\\n",
    "    --peer-project $SRC_PROJECT  \\\n",
    "    --peer-network $SRC_NETWORK\n",
    "\n",
    "print()\n",
    "\n",
    "# create VPC network peering connection from target (src) project/network to analyst (dst) project/network\n",
    "!gcloud compute networks peerings create $PEERING_NAME \\\n",
    "    --project $SRC_PROJECT \\\n",
    "    --network=$SRC_NETWORK \\\n",
    "    --peer-project $DST_PROJECT  \\\n",
    "    --peer-network $DST_NETWORK"
   ]
  },
  {
   "cell_type": "markdown",
   "id": "fbc15682",
   "metadata": {},
   "source": [
    "## Setup Destination Collector"
   ]
  },
  {
   "cell_type": "code",
   "execution_count": null,
   "id": "c498f0df",
   "metadata": {},
   "outputs": [],
   "source": [
    "# create VM instance group at analyst (dst) project\n",
    "!gcloud compute instance-groups unmanaged create $DST_INSTANCE_GRP \\\n",
    "    --project $DST_PROJECT \\\n",
    "    --zone $SRC_ZONE"
   ]
  },
  {
   "cell_type": "code",
   "execution_count": null,
   "id": "1376de91",
   "metadata": {},
   "outputs": [],
   "source": [
    "# following actions are performed at analyst (dst) project\n",
    "\n",
    "# create VM instance for collection (modify as required)\n",
    "!gcloud compute instances create $DST_VM \\\n",
    "    --project $DST_PROJECT \\\n",
    "    --zone $SRC_ZONE \\\n",
    "    --machine-type=e2-highmem-4 \\\n",
    "    --subnet=$DST_SUBNET \\\n",
    "    --tags=allow-ssh,allow-health-check \\\n",
    "    --create-disk=auto-delete=yes,boot=yes,device-name=$DST_VM,image-family=debian-10,image-project=debian-cloud,mode=rw,size=60,type=pd-ssd\n",
    "\n",
    "print()\n",
    "\n",
    "# add VM instance(s) to instance group\n",
    "!gcloud compute instance-groups unmanaged add-instances $DST_INSTANCE_GRP \\\n",
    "    --project $DST_PROJECT \\\n",
    "    --zone=$SRC_ZONE \\\n",
    "    --instances=$DST_VM\n",
    "\n",
    "# duplicate as required"
   ]
  },
  {
   "cell_type": "markdown",
   "id": "bd43a81b",
   "metadata": {},
   "source": [
    "## Create Firewall Rules"
   ]
  },
  {
   "cell_type": "code",
   "execution_count": null,
   "id": "8a53beed",
   "metadata": {},
   "outputs": [],
   "source": [
    "# create firewall rules at analyst (dst) project\n",
    "\n",
    "# allow all ingress traffic from target (src) project/network/VM\n",
    "!gcloud compute firewall-rules create $FW_LB_RULE_NAME \\\n",
    "    --project $DST_PROJECT \\\n",
    "    --network=$DST_NETWORK \\\n",
    "    --action=allow \\\n",
    "    --direction=ingress \\\n",
    "    --source-ranges=$SRC_IP_RANGE \\\n",
    "    --rules=tcp,udp,icmp\n",
    "\n",
    "print()\n",
    "\n",
    "# allow all ingress traffic from health check IPs\n",
    "!gcloud compute firewall-rules create $FW_HC_RULE_NAME \\\n",
    "    --project $DST_PROJECT \\\n",
    "    --network=$DST_NETWORK \\\n",
    "    --action=allow \\\n",
    "    --direction=ingress \\\n",
    "    --target-tags=allow-health-check \\\n",
    "    --source-ranges=130.211.0.0/22,35.191.0.0/16 \\\n",
    "    --rules=tcp,udp,icmp\n",
    "\n",
    "print()\n",
    "\n",
    "# allow all ingress SSH traffic from specified IPs\n",
    "!gcloud compute firewall-rules create $FW_SSH_RULE_NAME \\\n",
    "    --project $DST_PROJECT \\\n",
    "    --network=$DST_NETWORK \\\n",
    "    --action=allow \\\n",
    "    --direction=ingress \\\n",
    "    --target-tags=allow-ssh \\\n",
    "    --source-ranges=$DST_SSH_IP  \\\n",
    "    --rules=tcp,udp,icmp"
   ]
  },
  {
   "cell_type": "code",
   "execution_count": null,
   "id": "e217b9cb",
   "metadata": {
    "scrolled": true
   },
   "outputs": [],
   "source": [
    "# list egress firewall rules at target (src) project\n",
    "!gcloud compute firewall-rules list \\\n",
    "    --project $SRC_PROJECT \\\n",
    "    --format='json' > src_fw_rules.json\n",
    "\n",
    "with open('./src_fw_rules.json') as infile:\n",
    "    src_fw_rules_df = pd.json_normalize(json.load(infile))\n",
    "\n",
    "desired_columns = ['name', 'network', 'priority', 'direction', 'targetTags', 'destinationRanges', 'denied', 'allowed']\n",
    "columns = list(set(src_fw_rules_df.columns) & set(desired_columns))\n",
    "\n",
    "display(src_fw_rules_df[columns]\n",
    "        .loc[src_fw_rules_df['direction'] == 'EGRESS']\n",
    "        .loc[src_fw_rules_df['network'].str.contains(src_network.value)])"
   ]
  },
  {
   "cell_type": "code",
   "execution_count": null,
   "id": "3ccf7a05",
   "metadata": {},
   "outputs": [],
   "source": [
    "# [optional] create allow all egress firewall rule at target (src) project\n",
    "!gcloud compute firewall-rules create $FW_EGRESS_RULE_NAME \\\n",
    "    --project $SRC_PROJECT \\\n",
    "    --network=$SRC_NETWORK \\\n",
    "    --action=allow \\\n",
    "    --direction=egress \\\n",
    "    --target-tags=$NETWORK_TAG \\\n",
    "    --destination-ranges=0.0.0.0/0 \\\n",
    "    --rules=tcp,udp,icmp"
   ]
  },
  {
   "cell_type": "markdown",
   "id": "441b0f5e",
   "metadata": {},
   "source": [
    "## Implement Load Balancer"
   ]
  },
  {
   "cell_type": "code",
   "execution_count": null,
   "id": "00ba8142",
   "metadata": {},
   "outputs": [],
   "source": [
    "# create a new regional HTTP health-check at analyst (dst) project\n",
    "!gcloud compute health-checks create http $LB_HC_NAME \\\n",
    "    --project $DST_PROJECT \\\n",
    "    --region=$SRC_REGION \\\n",
    "    --port=80\n",
    "\n",
    "print()\n",
    "\n",
    "# create backend service at analyst (dst) project\n",
    "!gcloud compute backend-services create $LB_BE_NAME \\\n",
    "    --project $DST_PROJECT \\\n",
    "    --load-balancing-scheme=internal \\\n",
    "    --protocol=tcp \\\n",
    "    --region=$SRC_REGION \\\n",
    "    --health-checks=$LB_HC_NAME \\\n",
    "    --health-checks-region=$SRC_REGION\n",
    "\n",
    "print()\n",
    "\n",
    "# add instance group to backend service at analyst (dst) project\n",
    "!gcloud compute backend-services add-backend $LB_BE_NAME \\\n",
    "    --project $DST_PROJECT \\\n",
    "    --region=$SRC_REGION \\\n",
    "    --instance-group=$DST_INSTANCE_GRP \\\n",
    "    --instance-group-zone=$SRC_ZONE\n",
    "\n",
    "print()\n",
    "\n",
    "# create forwarding rule at analyst (dst) project\n",
    "!gcloud compute forwarding-rules create $LB_FE_NAME \\\n",
    "    --project $DST_PROJECT \\\n",
    "    --region=$SRC_REGION \\\n",
    "    --load-balancing-scheme=internal \\\n",
    "    --backend-service=$LB_BE_NAME \\\n",
    "    --ports=all \\\n",
    "    --is-mirroring-collector \\\n",
    "    --network=$DST_NETWORK \\\n",
    "    --subnet=$DST_SUBNET"
   ]
  },
  {
   "cell_type": "markdown",
   "id": "e52faf32",
   "metadata": {},
   "source": [
    "## Implement Packet Mirroring"
   ]
  },
  {
   "cell_type": "code",
   "execution_count": null,
   "id": "dd72e7fa",
   "metadata": {},
   "outputs": [],
   "source": [
    "# tag vm to capture packets from at target (src) project\n",
    "!gcloud compute instances add-tags $SRC_VM \\\n",
    "    --project $SRC_PROJECT \\\n",
    "    --zone $SRC_ZONE \\\n",
    "    --tags $NETWORK_TAG\n",
    "\n",
    "# duplicate as required"
   ]
  },
  {
   "cell_type": "code",
   "execution_count": null,
   "id": "5b39485a",
   "metadata": {},
   "outputs": [],
   "source": [
    "# create packet mirroring policy at analyst (dst) project\n",
    "!gcloud compute packet-mirrorings create $PM_POLICY_NAME \\\n",
    "    --project $DST_PROJECT \\\n",
    "    --region=$SRC_REGION \\\n",
    "    --network=projects/$SRC_PROJECT/global/networks/$SRC_NETWORK \\\n",
    "    --mirrored-tags=$NETWORK_TAG \\\n",
    "    --collector-ilb=$LB_FE_NAME"
   ]
  },
  {
   "cell_type": "markdown",
   "id": "19a99907",
   "metadata": {},
   "source": [
    "## Capture Packets"
   ]
  },
  {
   "cell_type": "markdown",
   "id": "eb77d147",
   "metadata": {},
   "source": [
    "1. SSH into `$DST_VM` - `gcloud compute ssh $DST_VM -project $DST_PROJECT -zone $SRC_ZONE`\n",
    "2. Install tcpdump - `sudo apt-get update`, `sudo apt install tcpdump -y`\n",
    "2. `sudo /usr/sbin/tcpdump port not 22 -w pc.pcap`"
   ]
  },
  {
   "cell_type": "markdown",
   "id": "fb2435a5",
   "metadata": {},
   "source": [
    "## Cleanup"
   ]
  },
  {
   "cell_type": "code",
   "execution_count": null,
   "id": "248d4ad1",
   "metadata": {},
   "outputs": [],
   "source": [
    "# at target (src) project\n",
    "\n",
    "# delete firewall rule\n",
    "!gcloud compute firewall-rules delete $FW_EGRESS_RULE_NAME --project $SRC_PROJECT --quiet\n",
    "\n",
    "print()\n",
    "\n",
    "# delete VPC peering\n",
    "!gcloud compute networks peerings delete $PEERING_NAME \\\n",
    "    --project $SRC_PROJECT \\\n",
    "    --network=$SRC_NETWORK\n",
    "\n",
    "print()\n",
    "\n",
    "# remove tag from VM\n",
    "!gcloud compute instances remove-tags $SRC_VM \\\n",
    "    --project $SRC_PROJECT \\\n",
    "    --zone $SRC_ZONE \\\n",
    "    --tags $NETWORK_TAG"
   ]
  },
  {
   "cell_type": "code",
   "execution_count": null,
   "id": "aed81a8d",
   "metadata": {},
   "outputs": [],
   "source": [
    "# at analyst (dst) project\n",
    "\n",
    "# delete packet mirroring policy\n",
    "!gcloud compute packet-mirrorings delete $PM_POLICY_NAME --quiet \\\n",
    "    --project $DST_PROJECT \\\n",
    "    --region=$SRC_REGION\n",
    "\n",
    "print()\n",
    "\n",
    "# delete LB forwarding rule\n",
    "!gcloud compute forwarding-rules delete $LB_FE_NAME --quiet \\\n",
    "    --project $DST_PROJECT \\\n",
    "    --region=$SRC_REGION\n",
    "\n",
    "print()\n",
    "\n",
    "# delete LB backend service\n",
    "!gcloud compute backend-services delete $LB_BE_NAME --quiet \\\n",
    "    --project $DST_PROJECT \\\n",
    "    --region=$SRC_REGION\n",
    "\n",
    "print()\n",
    "\n",
    "# delete LB health check\n",
    "!gcloud compute health-checks delete $LB_HC_NAME --quiet \\\n",
    "    --project $DST_PROJECT \\\n",
    "    --region=$SRC_REGION\n",
    "\n",
    "print()\n",
    "\n",
    "# delete firewall rules\n",
    "!gcloud compute firewall-rules delete $FW_HC_RULE_NAME --project $DST_PROJECT --quiet\n",
    "print()\n",
    "!gcloud compute firewall-rules delete $FW_LB_RULE_NAME --project $DST_PROJECT --quiet\n",
    "print()\n",
    "!gcloud compute firewall-rules delete $FW_SSH_RULE_NAME --project $DST_PROJECT --quiet\n",
    "print()\n",
    "\n",
    "# delete VM(s)\n",
    "!gcloud compute instances delete $DST_VM --quiet \\\n",
    "    --project $DST_PROJECT \\\n",
    "    --zone $SRC_ZONE\n",
    "\n",
    "print()\n",
    "\n",
    "# delete VM instance group\n",
    "!gcloud compute instance-groups unmanaged delete $DST_INSTANCE_GRP --quiet \\\n",
    "    --project $DST_PROJECT \\\n",
    "    --zone $SRC_ZONE\n",
    "\n",
    "print()\n",
    "\n",
    "# delete subnet\n",
    "!gcloud compute networks subnets delete $DST_SUBNET --quiet \\\n",
    "    --project $DST_PROJECT \\\n",
    "    --region $SRC_REGION\n",
    "\n",
    "print()\n",
    "\n",
    "# delete network\n",
    "!gcloud compute networks delete $DST_NETWORK --project $DST_PROJECT --quiet\n",
    "\n",
    "print()\n",
    "\n",
    "# remove files\n",
    "!rm ./src_fw_rules.json"
   ]
  }
 ],
 "metadata": {
  "interpreter": {
   "hash": "e774977668b7c0ae8309835a5187aa7fbf7669e7d0bb59755bc63e573643edcd"
  },
  "kernelspec": {
   "display_name": "Python 3.7.9 64-bit",
   "language": "python",
   "name": "python3"
  },
  "language_info": {
   "codemirror_mode": {
    "name": "ipython",
    "version": 3
   },
   "file_extension": ".py",
   "mimetype": "text/x-python",
   "name": "python",
   "nbconvert_exporter": "python",
   "pygments_lexer": "ipython3",
   "version": "3.7.9"
  },
  "widgets": {
   "application/vnd.jupyter.widget-state+json": {
    "state": {},
    "version_major": 2,
    "version_minor": 0
   }
  }
 },
 "nbformat": 4,
 "nbformat_minor": 4
}
