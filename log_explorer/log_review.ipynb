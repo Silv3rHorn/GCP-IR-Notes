{
 "cells": [
  {
   "cell_type": "markdown",
   "metadata": {},
   "source": [
    "# Log Review (ipynb)\n",
    "Google Log Explorer is a more than acceptable platform for reviewing logs. However, it lacks table view of log events as well as field aggregation (think `stats count by` in Splunk) that might be useful during investigations.\n",
    "\n",
    "Below serves only as a **demonstration** of how table view and field aggregation can be achieved outside of Google Log Explorer, and it is **NOT** meant to be used in production (or cases)."
   ]
  },
  {
   "cell_type": "markdown",
   "metadata": {},
   "source": [
    "## Install Dependencies"
   ]
  },
  {
   "cell_type": "markdown",
   "metadata": {},
   "source": [
    "Install the dependencies `ipywidgets` and `pandas`. Skip the next cell if they had already been installed."
   ]
  },
  {
   "cell_type": "code",
   "execution_count": null,
   "metadata": {},
   "outputs": [],
   "source": [
    "!pip3 install ipywidgets pandas"
   ]
  },
  {
   "cell_type": "markdown",
   "metadata": {},
   "source": [
    "## Imports and Configuration"
   ]
  },
  {
   "cell_type": "code",
   "execution_count": null,
   "id": "05974e0e",
   "metadata": {},
   "outputs": [],
   "source": [
    "import ipywidgets as widgets\n",
    "import json\n",
    "import os\n",
    "import pandas as pd\n",
    "\n",
    "from IPython.display import HTML, display\n",
    "\n",
    "# extend width of widgets\n",
    "display(HTML('''<style>\n",
    "    .widget-label { min-width: 18ex !important; font-weight:bold; }\n",
    "</style>'''))\n",
    "# extend width of cells\n",
    "display(HTML(\"<style>.container { width:100% !important; }</style>\"))\n",
    "display(HTML(\"<style>.output_result { max-width:100% !important; }</style>\"))\n",
    "\n",
    "# extend width and max rows of pandas output\n",
    "pd.set_option('display.max_colwidth', None)\n",
    "pd.set_option('display.max_rows', None)"
   ]
  },
  {
   "cell_type": "markdown",
   "metadata": {},
   "source": [
    "## Query Logs"
   ]
  },
  {
   "cell_type": "markdown",
   "metadata": {},
   "source": [
    "**Specify the following information**\n",
    "| Fields      | Description |\n",
    "| ----------- | ----------- |\n",
    "| `Source Project`   | Project id of target project (that contains potentially compromised resource)   |\n",
    "| `Resource Type`   | Resource type of logs to review    |\n",
    "| `Start Date`   | Start date of time period of logs to review    |\n",
    "| `Start Time`   | Start time of time period of logs to review    |\n",
    "| `End Date`   | End date of time period of logs to review   |\n",
    "| `End Time`   | End time of time period of logs to review    |"
   ]
  },
  {
   "cell_type": "code",
   "execution_count": null,
   "id": "2c9b8065",
   "metadata": {
    "scrolled": false
   },
   "outputs": [],
   "source": [
    "# create UI for user input\n",
    "src_project = widgets.Text(description=\"Source Project: \", disabled=False)\n",
    "resource_type = widgets.Dropdown(\n",
    "    options=['bigquery_dataset', 'bigquery_resource', 'cloudsql_database', 'cloud_function', 'gce_backend_service', 'gce_disk', 'gce_firewall_rule', 'gce_instance', 'gce_instance_group', 'gce_instance_group_manager', 'gce_router', 'gce_snapshot', 'gcs_bucket', 'gke_cluster', 'http_load_balancer', 'k8s_cluster', 'k8s_container', 'k8s_node', 'k8s_pod', 'logging_sink', 'network_security_policy', 'project', 'vpn_gateway'], \n",
    "    value='gce_instance', \n",
    "    description=\"Resource Type: \", \n",
    "    disabled=False)\n",
    "start_date = widgets.DatePicker(description='Start Date: ', disabled=False)\n",
    "start_time = widgets.Text(value='hh:mm', description=\"Start Time (UTC): \", disabled=False)\n",
    "end_date = widgets.DatePicker(description='End Date: ', disabled=False)\n",
    "end_time = widgets.Text(value='hh:mm', description=\"End Time (UTC): \", disabled=False)\n",
    "\n",
    "display(src_project, resource_type, start_date, start_time, end_date, end_time)"
   ]
  },
  {
   "cell_type": "code",
   "execution_count": null,
   "id": "20b9c1d2",
   "metadata": {},
   "outputs": [],
   "source": [
    "# set environment variables\n",
    "os.environ['SRC_PROJECT'] = src_project.value\n",
    "os.environ['QUERY'] = 'resource.type=' + resource_type.value + ' AND timestamp>=\"' + str(start_date.value) + 'T' + start_time.value + ':00Z\"' + ' AND timestamp<=\"' + str(end_date.value) + 'T' + end_time.value + ':00Z\"'"
   ]
  },
  {
   "cell_type": "code",
   "execution_count": null,
   "id": "b1362316",
   "metadata": {},
   "outputs": [],
   "source": [
    "# request for log events that satisfy the query, limiting to 100 events (change as deem fit)\n",
    "!gcloud logging read \"$QUERY\" --project $SRC_PROJECT --limit=100 --format=json > temp_logs.json\n",
    "\n",
    "# store results into dataframe\n",
    "with open('./temp_logs.json') as infile:\n",
    "    log_results = json.load(infile)\n",
    "log_results_df = pd.json_normalize(log_results)\n",
    "display(log_results_df)"
   ]
  },
  {
   "cell_type": "code",
   "execution_count": null,
   "id": "79d5d059",
   "metadata": {},
   "outputs": [],
   "source": [
    "# aggregate values of a specified field (pprotoPayload.methodName in this case)\n",
    "log_results_df['protoPayload.methodName'].value_counts()"
   ]
  }
 ],
 "metadata": {
  "interpreter": {
   "hash": "e774977668b7c0ae8309835a5187aa7fbf7669e7d0bb59755bc63e573643edcd"
  },
  "kernelspec": {
   "display_name": "Python 3.7.9 64-bit",
   "language": "python",
   "name": "python3"
  },
  "language_info": {
   "codemirror_mode": {
    "name": "ipython",
    "version": 3
   },
   "file_extension": ".py",
   "mimetype": "text/x-python",
   "name": "python",
   "nbconvert_exporter": "python",
   "pygments_lexer": "ipython3",
   "version": "3.7.9"
  },
  "widgets": {
   "application/vnd.jupyter.widget-state+json": {
    "state": {},
    "version_major": 2,
    "version_minor": 0
   }
  }
 },
 "nbformat": 4,
 "nbformat_minor": 4
}
